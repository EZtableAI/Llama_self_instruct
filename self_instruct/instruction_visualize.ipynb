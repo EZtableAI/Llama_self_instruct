{
 "cells": [
  {
   "attachments": {},
   "cell_type": "markdown",
   "metadata": {},
   "source": [
    "Note: The script uses Berkeley Neural Parser to parse the generated instructions, and visualize the results using Plotly.\n",
    "\n",
    "Please make sure to install benepar following their documentation [here](https://github.com/nikitakit/self-attentive-parser#installation)."
   ]
  },
  {
   "cell_type": "code",
   "execution_count": null,
   "metadata": {},
   "outputs": [],
   "source": [
    "import benepar, spacy\n",
    "nlp = spacy.load('en_core_web_md')\n",
    "doc = nlp(\"The time for action is now. It's never too late to do something.\")\n",
    "\n",
    "if spacy.__version__.startswith('2'):\n",
    "    nlp.add_pipe(benepar.BeneparComponent(\"benepar_en3\"))\n",
    "else:\n",
    "    nlp.add_pipe(\"benepar\", config={\"model\": \"benepar_en3\"})"
   ]
  },
  {
   "cell_type": "code",
   "execution_count": null,
   "metadata": {},
   "outputs": [],
   "source": [
    "def find_root_verb_and_its_dobj(tree_root):\n",
    "    # first check if the current node and its children satisfy the condition\n",
    "    if tree_root.pos_ == \"VERB\":\n",
    "        for child in tree_root.children:\n",
    "            if child.dep_ == \"dobj\" and child.pos_ == \"NOUN\":\n",
    "                return tree_root.lemma_, child.lemma_\n",
    "        return tree_root.lemma_, None\n",
    "    # if not, check its children\n",
    "    for child in tree_root.children:\n",
    "        return find_root_verb_and_its_dobj(child)\n",
    "    # if no children satisfy the condition, return None\n",
    "    return None, None\n",
    "\n",
    "def find_root_verb_and_its_dobj_in_string(s):\n",
    "    doc = nlp(s)\n",
    "    first_sent = list(doc.sents)[0]\n",
    "    return find_root_verb_and_its_dobj(first_sent.root)\n",
    "\n",
    "find_root_verb_and_its_dobj_in_string(\"Write me a story about education.\")"
   ]
  },
  {
   "cell_type": "code",
   "execution_count": null,
   "metadata": {},
   "outputs": [],
   "source": [
    "import pandas as pd\n",
    "import json\n",
    "import tqdm\n",
    "\n",
    "generated_data_path = \"data/gpt3_generations/machine_generated_instructions.jsonl\" # replace this with your own data path\n",
    "machine_generated_tasks = []\n",
    "with open() as fin:\n",
    "    for line in fin:\n",
    "        machine_generated_tasks.append(json.loads(line))\n",
    "\n",
    "instructions = set([task[\"instruction\"] for task in machine_generated_tasks])\n",
    "print(len(instructions))\n",
    "\n",
    "raw_phrases = []\n",
    "for instruction in tqdm.tqdm(instructions):\n",
    "    try:\n",
    "        verb, noun = find_root_verb_and_its_dobj_in_string(instruction)\n",
    "        raw_phrases.append({\n",
    "            \"verb\": verb,\n",
    "            \"noun\": noun,\n",
    "            \"instruction\": instruction\n",
    "        })\n",
    "    except Exception as e:\n",
    "        print(e)\n",
    "        print(instruction)"
   ]
  },
  {
   "cell_type": "code",
   "execution_count": null,
   "metadata": {},
   "outputs": [],
   "source": [
    "len(raw_phrases)"
   ]
  },
  {
   "cell_type": "code",
   "execution_count": null,
   "metadata": {},
   "outputs": [],
   "source": [
    "raw_phrases = pd.DataFrame(raw_phrases)\n",
    "phrases = pd.DataFrame(raw_phrases).dropna()\n",
    "phrases[[\"verb\", \"noun\"]].groupby([\"verb\", \"noun\"]).size().sort_values(ascending=False)"
   ]
  },
  {
   "cell_type": "code",
   "execution_count": null,
   "metadata": {},
   "outputs": [],
   "source": [
    "top_verbs = phrases[[\"verb\"]].groupby([\"verb\"]).size().nlargest(20).reset_index()\n",
    "\n",
    "df = phrases[phrases[\"verb\"].isin(top_verbs[\"verb\"].tolist())]\n",
    "# df = df[~df[\"noun\"].isin([\"I\", \"what\"])]\n",
    "# df = phrases\n",
    "# df[~df[\"verb\"].isin(top_verbs[\"verb\"].tolist())][\"verb\"] = \"other\"\n",
    "# df[~df[\"verb\"].isin(top_verbs[\"verb\"].tolist())][\"noun\"] = \"other\"\n",
    "df = df.groupby([\"verb\", \"noun\"]).size().reset_index().rename(columns={0: \"count\"}).sort_values(by=[\"count\"], ascending=False)\n",
    "# df = df[df[\"count\"] > 10]\n",
    "df = df.groupby(\"verb\").apply(lambda x: x.sort_values(\"count\", ascending=False).head(4)).reset_index(drop=True)\n",
    "df"
   ]
  },
  {
   "cell_type": "code",
   "execution_count": null,
   "metadata": {},
   "outputs": [],
   "source": [
    "import pandas as pd\n",
    "import json\n",
    "import tqdm\n",
    "\n",
    "machine_generated_tasks = []\n",
    "with open(\"data/batch_221120_combined/clean_data_wo_human.jsonl\") as fin:\n",
    "    for line in fin:\n",
    "        machine_generated_tasks.append(json.loads(line))\n",
    "\n",
    "instructions = set([task[\"instruction\"] for task in machine_generated_tasks])\n",
    "print(len(instructions))\n",
    "\n",
    "raw_phrases = []\n",
    "for instruction in tqdm.tqdm(instructions):\n",
    "    try:\n",
    "        verb, noun = find_root_verb_and_its_dobj_in_string(instruction)\n",
    "        raw_phrases.append({\n",
    "            \"verb\": verb,\n",
    "            \"noun\": noun,\n",
    "            \"instruction\": instruction\n",
    "        })\n",
    "    except Exception as e:\n",
    "        print(e)\n",
    "        print(instruction)"
   ]
  },
  {
   "cell_type": "code",
   "execution_count": null,
   "metadata": {},
   "outputs": [],
   "source": [
    "\n",
    "import plotly.graph_objects as go\n",
    "import plotly.express as px\n",
    "\n",
    "# df[\"blank\"] = \"ROOT\"\n",
    "# df = phrases.groupby([\"verb\", \"noun\"]).size().sort_values(ascending=False).head(5).reset_index().rename(columns={0: \"count\"})\n",
    "\n",
    "df = df[df[\"count\"] > 30]\n",
    "fig = px.sunburst(df, path=['verb', 'noun'], values='count')\n",
    "# fig.update_layout(uniformtext=dict(minsize=10, mode='hide'))\n",
    "fig.update_layout(\n",
    "    margin=dict(l=0, r=0, t=0, b=0),\n",
    "    font_family=\"Times New Roman\",\n",
    ")\n",
    "fig.show()\n",
    "fig.write_html(\"output/verb_noun.html\")\n",
    "# fig.savefig(\"output/verb_noun.pdf\")"
   ]
  }
 ],
 "metadata": {
  "language_info": {
   "name": "python"
  },
  "orig_nbformat": 4
 },
 "nbformat": 4,
 "nbformat_minor": 2
}
